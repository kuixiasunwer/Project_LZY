{
 "cells": [
  {
   "cell_type": "code",
   "id": "initial_id",
   "metadata": {
    "collapsed": true,
    "ExecuteTime": {
     "end_time": "2025-06-16T09:40:32.773686Z",
     "start_time": "2025-06-16T09:40:32.763696Z"
    }
   },
   "source": [
    "import pandas as pd\n",
    "import pathlib\n",
    "import os\n",
    "import sys\n",
    "\n",
    "from torch.utils.data import DataLoader, TensorDataset\n",
    "from torch import nn\n",
    "\n",
    "from pre.cleaner import del_row_list\n",
    "from util import paths\n",
    "import xarray as xr\n",
    "import numpy as np\n",
    "\n",
    "if not os.path.exists(\"run.sh\"):\n",
    "    os.chdir(\"..\")\n",
    "else:\n",
    "    os.chdir(\".\")\n",
    "sys.path.append(\".\")\n",
    "sys.path.append(\"/app/\")\n",
    "\n",
    "import numpy as np\n",
    "import torch\n",
    "\n",
    "from draw.functions import plot_predictions, cut_plot_prediction\n",
    "from util.data_loader import load_sais_label_data, load_sais_feather_data\n",
    "\n",
    "device = 'cuda'"
   ],
   "outputs": [],
   "execution_count": 20
  },
  {
   "metadata": {
    "ExecuteTime": {
     "end_time": "2025-06-16T09:40:16.752208Z",
     "start_time": "2025-06-16T09:40:16.591890Z"
    }
   },
   "cell_type": "code",
   "source": [
    "first_feature_dataset = load_sais_feather_data(np_format=False)[0]\n",
    "first_label_dataset = load_sais_label_data(without_first=True)"
   ],
   "id": "87d622012a50289",
   "outputs": [],
   "execution_count": 19
  },
  {
   "metadata": {
    "ExecuteTime": {
     "end_time": "2025-06-16T09:35:44.143275Z",
     "start_time": "2025-06-16T09:35:43.733165Z"
    }
   },
   "cell_type": "code",
   "source": "first_feature_dataset['data'].sel(sta=[2, 3, 5, 7, 9]).to_netcdf(\"data/processed/xr_data/extend_feature.nc\")",
   "id": "3b41d87827618081",
   "outputs": [],
   "execution_count": 18
  },
  {
   "metadata": {
    "ExecuteTime": {
     "end_time": "2025-06-16T09:41:07.691135Z",
     "start_time": "2025-06-16T09:41:07.688172Z"
    }
   },
   "cell_type": "code",
   "source": "np.save(\"data/processed/np_data/extend_label.npy\", first_label_dataset[[1, 2, 4, 6, 8]])",
   "id": "8ca9e3a87d4285f",
   "outputs": [],
   "execution_count": 21
  }
 ],
 "metadata": {
  "kernelspec": {
   "display_name": "Python 3",
   "language": "python",
   "name": "python3"
  },
  "language_info": {
   "codemirror_mode": {
    "name": "ipython",
    "version": 2
   },
   "file_extension": ".py",
   "mimetype": "text/x-python",
   "name": "python",
   "nbconvert_exporter": "python",
   "pygments_lexer": "ipython2",
   "version": "2.7.6"
  }
 },
 "nbformat": 4,
 "nbformat_minor": 5
}
